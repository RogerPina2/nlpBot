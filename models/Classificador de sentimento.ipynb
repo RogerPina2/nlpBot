{
 "cells": [
  {
   "cell_type": "code",
   "execution_count": 17,
   "id": "471d5e07-1020-4845-9b41-b9c3c0dc5c3e",
   "metadata": {},
   "outputs": [
    {
     "name": "stderr",
     "output_type": "stream",
     "text": [
      "[nltk_data] Downloading package vader_lexicon to\n",
      "[nltk_data]     C:\\Users\\roger\\AppData\\Roaming\\nltk_data...\n"
     ]
    },
    {
     "data": {
      "text/plain": [
       "True"
      ]
     },
     "execution_count": 17,
     "metadata": {},
     "output_type": "execute_result"
    }
   ],
   "source": [
    "import nltk\n",
    "nltk.download('vader_lexicon')"
   ]
  },
  {
   "cell_type": "code",
   "execution_count": 18,
   "id": "a1db39fc-9d6e-4255-a07b-c396cb6c7438",
   "metadata": {},
   "outputs": [],
   "source": [
    "from nltk.sentiment import SentimentIntensityAnalyzer"
   ]
  },
  {
   "cell_type": "code",
   "execution_count": 26,
   "id": "72928da1-e3b1-4619-8d82-36031b53bfac",
   "metadata": {},
   "outputs": [
    {
     "name": "stdout",
     "output_type": "stream",
     "text": [
      "0.8849\n"
     ]
    }
   ],
   "source": [
    "# Crie uma instância do SentimentIntensityAnalyzer\n",
    "sia = SentimentIntensityAnalyzer()\n",
    "\n",
    "# Exemplo de análise de sentimento de uma frase\n",
    "sentence = \"I love this movie! It's so amazing.\"\n",
    "sentiment_scores = sia.polarity_scores(sentence)\n",
    "\n",
    "# Exiba os resultados\n",
    "print(sentiment_scores['compound'])"
   ]
  },
  {
   "cell_type": "code",
   "execution_count": 21,
   "id": "f10312a6-2ebf-44ba-9b6f-a646216297b3",
   "metadata": {},
   "outputs": [],
   "source": [
    "import pandas as pd"
   ]
  },
  {
   "cell_type": "code",
   "execution_count": 24,
   "id": "ed7e3848-518f-4b8c-a4e0-cb30ffb1c4a9",
   "metadata": {},
   "outputs": [],
   "source": [
    "df = pd.read_csv('../data/database.csv')"
   ]
  },
  {
   "cell_type": "code",
   "execution_count": 25,
   "id": "e163d712-3d55-49b0-ac7e-709a25d5ba91",
   "metadata": {},
   "outputs": [
    {
     "data": {
      "text/html": [
       "<div>\n",
       "<style scoped>\n",
       "    .dataframe tbody tr th:only-of-type {\n",
       "        vertical-align: middle;\n",
       "    }\n",
       "\n",
       "    .dataframe tbody tr th {\n",
       "        vertical-align: top;\n",
       "    }\n",
       "\n",
       "    .dataframe thead th {\n",
       "        text-align: right;\n",
       "    }\n",
       "</style>\n",
       "<table border=\"1\" class=\"dataframe\">\n",
       "  <thead>\n",
       "    <tr style=\"text-align: right;\">\n",
       "      <th></th>\n",
       "      <th>url</th>\n",
       "      <th>content</th>\n",
       "    </tr>\n",
       "  </thead>\n",
       "  <tbody>\n",
       "    <tr>\n",
       "      <th>0</th>\n",
       "      <td>https://g1.globo.com/politica/noticia/2023/04/...</td>\n",
       "      <td>Política   fique por dentro Lula, 100 dias: Sa...</td>\n",
       "    </tr>\n",
       "    <tr>\n",
       "      <th>1</th>\n",
       "      <td>http://g1.globo.com/politica/</td>\n",
       "      <td>Política   Lula, 100 dias: Octavio Guedes list...</td>\n",
       "    </tr>\n",
       "    <tr>\n",
       "      <th>2</th>\n",
       "      <td>https://g1.globo.com/politica/noticia/2023/04/...</td>\n",
       "      <td>Política   fique por dentro Lula defende Hadda...</td>\n",
       "    </tr>\n",
       "    <tr>\n",
       "      <th>3</th>\n",
       "      <td>https://g1.globo.com/loterias/?utm_source=g1mu...</td>\n",
       "      <td>Loterias   Mega-Sena, concurso 2.581: Aposta l...</td>\n",
       "    </tr>\n",
       "    <tr>\n",
       "      <th>4</th>\n",
       "      <td>https://g1.globo.com/loterias/</td>\n",
       "      <td>Loterias   Mega-Sena, concurso 2.581: Aposta l...</td>\n",
       "    </tr>\n",
       "    <tr>\n",
       "      <th>...</th>\n",
       "      <td>...</td>\n",
       "      <td>...</td>\n",
       "    </tr>\n",
       "    <tr>\n",
       "      <th>236</th>\n",
       "      <td>https://www.cnnbrasil.com.br/nacional/corpo-de...</td>\n",
       "      <td>seg - sex  Apresentação  Ao vivo A seguir  Mil...</td>\n",
       "    </tr>\n",
       "    <tr>\n",
       "      <th>237</th>\n",
       "      <td>https://www.cnnbrasil.com.br/nacional/corpo-de...</td>\n",
       "      <td>seg - sex  Apresentação  Ao vivo A seguir  MC ...</td>\n",
       "    </tr>\n",
       "    <tr>\n",
       "      <th>238</th>\n",
       "      <td>https://www.cnnbrasil.com.br/nacional/corpo-de...</td>\n",
       "      <td>seg - sex  Apresentação  Ao vivo A seguir  Pol...</td>\n",
       "    </tr>\n",
       "    <tr>\n",
       "      <th>239</th>\n",
       "      <td>https://www.cnnbrasil.com.br/nacional/corpo-de...</td>\n",
       "      <td>seg - sex  Apresentação  Ao vivo A seguir  Pro...</td>\n",
       "    </tr>\n",
       "    <tr>\n",
       "      <th>240</th>\n",
       "      <td>https://www.cnnbrasil.com.br/nacional/corpo-de...</td>\n",
       "      <td>seg - sex  Apresentação  Ao vivo A seguir  Açõ...</td>\n",
       "    </tr>\n",
       "  </tbody>\n",
       "</table>\n",
       "<p>241 rows × 2 columns</p>\n",
       "</div>"
      ],
      "text/plain": [
       "                                                   url  \\\n",
       "0    https://g1.globo.com/politica/noticia/2023/04/...   \n",
       "1                        http://g1.globo.com/politica/   \n",
       "2    https://g1.globo.com/politica/noticia/2023/04/...   \n",
       "3    https://g1.globo.com/loterias/?utm_source=g1mu...   \n",
       "4                       https://g1.globo.com/loterias/   \n",
       "..                                                 ...   \n",
       "236  https://www.cnnbrasil.com.br/nacional/corpo-de...   \n",
       "237  https://www.cnnbrasil.com.br/nacional/corpo-de...   \n",
       "238  https://www.cnnbrasil.com.br/nacional/corpo-de...   \n",
       "239  https://www.cnnbrasil.com.br/nacional/corpo-de...   \n",
       "240  https://www.cnnbrasil.com.br/nacional/corpo-de...   \n",
       "\n",
       "                                               content  \n",
       "0    Política   fique por dentro Lula, 100 dias: Sa...  \n",
       "1    Política   Lula, 100 dias: Octavio Guedes list...  \n",
       "2    Política   fique por dentro Lula defende Hadda...  \n",
       "3    Loterias   Mega-Sena, concurso 2.581: Aposta l...  \n",
       "4    Loterias   Mega-Sena, concurso 2.581: Aposta l...  \n",
       "..                                                 ...  \n",
       "236  seg - sex  Apresentação  Ao vivo A seguir  Mil...  \n",
       "237  seg - sex  Apresentação  Ao vivo A seguir  MC ...  \n",
       "238  seg - sex  Apresentação  Ao vivo A seguir  Pol...  \n",
       "239  seg - sex  Apresentação  Ao vivo A seguir  Pro...  \n",
       "240  seg - sex  Apresentação  Ao vivo A seguir  Açõ...  \n",
       "\n",
       "[241 rows x 2 columns]"
      ]
     },
     "execution_count": 25,
     "metadata": {},
     "output_type": "execute_result"
    }
   ],
   "source": [
    "df"
   ]
  },
  {
   "cell_type": "code",
   "execution_count": 33,
   "id": "57611469-f617-4866-a51b-963391a88f9b",
   "metadata": {},
   "outputs": [],
   "source": [
    "sentiment = []\n",
    "for c in df['content']:\n",
    "    sentiment.append(sia.polarity_scores(c)['compound'])"
   ]
  },
  {
   "cell_type": "code",
   "execution_count": 34,
   "id": "c36ddee8-7fbc-44ae-8e67-5b954ccfbeff",
   "metadata": {},
   "outputs": [],
   "source": [
    "df['sentiment'] = sentiment"
   ]
  },
  {
   "cell_type": "code",
   "execution_count": 35,
   "id": "89abb363-7fa7-4cbf-b8c9-74fffa771b45",
   "metadata": {},
   "outputs": [
    {
     "data": {
      "text/html": [
       "<div>\n",
       "<style scoped>\n",
       "    .dataframe tbody tr th:only-of-type {\n",
       "        vertical-align: middle;\n",
       "    }\n",
       "\n",
       "    .dataframe tbody tr th {\n",
       "        vertical-align: top;\n",
       "    }\n",
       "\n",
       "    .dataframe thead th {\n",
       "        text-align: right;\n",
       "    }\n",
       "</style>\n",
       "<table border=\"1\" class=\"dataframe\">\n",
       "  <thead>\n",
       "    <tr style=\"text-align: right;\">\n",
       "      <th></th>\n",
       "      <th>url</th>\n",
       "      <th>content</th>\n",
       "      <th>sentiment</th>\n",
       "    </tr>\n",
       "  </thead>\n",
       "  <tbody>\n",
       "    <tr>\n",
       "      <th>0</th>\n",
       "      <td>https://g1.globo.com/politica/noticia/2023/04/...</td>\n",
       "      <td>Política   fique por dentro Lula, 100 dias: Sa...</td>\n",
       "      <td>-0.4215</td>\n",
       "    </tr>\n",
       "    <tr>\n",
       "      <th>1</th>\n",
       "      <td>http://g1.globo.com/politica/</td>\n",
       "      <td>Política   Lula, 100 dias: Octavio Guedes list...</td>\n",
       "      <td>-0.5267</td>\n",
       "    </tr>\n",
       "    <tr>\n",
       "      <th>2</th>\n",
       "      <td>https://g1.globo.com/politica/noticia/2023/04/...</td>\n",
       "      <td>Política   fique por dentro Lula defende Hadda...</td>\n",
       "      <td>-0.1531</td>\n",
       "    </tr>\n",
       "    <tr>\n",
       "      <th>3</th>\n",
       "      <td>https://g1.globo.com/loterias/?utm_source=g1mu...</td>\n",
       "      <td>Loterias   Mega-Sena, concurso 2.581: Aposta l...</td>\n",
       "      <td>0.0000</td>\n",
       "    </tr>\n",
       "    <tr>\n",
       "      <th>4</th>\n",
       "      <td>https://g1.globo.com/loterias/</td>\n",
       "      <td>Loterias   Mega-Sena, concurso 2.581: Aposta l...</td>\n",
       "      <td>0.0000</td>\n",
       "    </tr>\n",
       "    <tr>\n",
       "      <th>...</th>\n",
       "      <td>...</td>\n",
       "      <td>...</td>\n",
       "      <td>...</td>\n",
       "    </tr>\n",
       "    <tr>\n",
       "      <th>236</th>\n",
       "      <td>https://www.cnnbrasil.com.br/nacional/corpo-de...</td>\n",
       "      <td>seg - sex  Apresentação  Ao vivo A seguir  Mil...</td>\n",
       "      <td>-0.9150</td>\n",
       "    </tr>\n",
       "    <tr>\n",
       "      <th>237</th>\n",
       "      <td>https://www.cnnbrasil.com.br/nacional/corpo-de...</td>\n",
       "      <td>seg - sex  Apresentação  Ao vivo A seguir  MC ...</td>\n",
       "      <td>-0.8953</td>\n",
       "    </tr>\n",
       "    <tr>\n",
       "      <th>238</th>\n",
       "      <td>https://www.cnnbrasil.com.br/nacional/corpo-de...</td>\n",
       "      <td>seg - sex  Apresentação  Ao vivo A seguir  Pol...</td>\n",
       "      <td>-0.9750</td>\n",
       "    </tr>\n",
       "    <tr>\n",
       "      <th>239</th>\n",
       "      <td>https://www.cnnbrasil.com.br/nacional/corpo-de...</td>\n",
       "      <td>seg - sex  Apresentação  Ao vivo A seguir  Pro...</td>\n",
       "      <td>-0.8975</td>\n",
       "    </tr>\n",
       "    <tr>\n",
       "      <th>240</th>\n",
       "      <td>https://www.cnnbrasil.com.br/nacional/corpo-de...</td>\n",
       "      <td>seg - sex  Apresentação  Ao vivo A seguir  Açõ...</td>\n",
       "      <td>-0.8550</td>\n",
       "    </tr>\n",
       "  </tbody>\n",
       "</table>\n",
       "<p>241 rows × 3 columns</p>\n",
       "</div>"
      ],
      "text/plain": [
       "                                                   url  \\\n",
       "0    https://g1.globo.com/politica/noticia/2023/04/...   \n",
       "1                        http://g1.globo.com/politica/   \n",
       "2    https://g1.globo.com/politica/noticia/2023/04/...   \n",
       "3    https://g1.globo.com/loterias/?utm_source=g1mu...   \n",
       "4                       https://g1.globo.com/loterias/   \n",
       "..                                                 ...   \n",
       "236  https://www.cnnbrasil.com.br/nacional/corpo-de...   \n",
       "237  https://www.cnnbrasil.com.br/nacional/corpo-de...   \n",
       "238  https://www.cnnbrasil.com.br/nacional/corpo-de...   \n",
       "239  https://www.cnnbrasil.com.br/nacional/corpo-de...   \n",
       "240  https://www.cnnbrasil.com.br/nacional/corpo-de...   \n",
       "\n",
       "                                               content  sentiment  \n",
       "0    Política   fique por dentro Lula, 100 dias: Sa...    -0.4215  \n",
       "1    Política   Lula, 100 dias: Octavio Guedes list...    -0.5267  \n",
       "2    Política   fique por dentro Lula defende Hadda...    -0.1531  \n",
       "3    Loterias   Mega-Sena, concurso 2.581: Aposta l...     0.0000  \n",
       "4    Loterias   Mega-Sena, concurso 2.581: Aposta l...     0.0000  \n",
       "..                                                 ...        ...  \n",
       "236  seg - sex  Apresentação  Ao vivo A seguir  Mil...    -0.9150  \n",
       "237  seg - sex  Apresentação  Ao vivo A seguir  MC ...    -0.8953  \n",
       "238  seg - sex  Apresentação  Ao vivo A seguir  Pol...    -0.9750  \n",
       "239  seg - sex  Apresentação  Ao vivo A seguir  Pro...    -0.8975  \n",
       "240  seg - sex  Apresentação  Ao vivo A seguir  Açõ...    -0.8550  \n",
       "\n",
       "[241 rows x 3 columns]"
      ]
     },
     "execution_count": 35,
     "metadata": {},
     "output_type": "execute_result"
    }
   ],
   "source": [
    "df"
   ]
  },
  {
   "cell_type": "code",
   "execution_count": 36,
   "id": "12575c4c-c47f-48e5-8082-fa27a93ed226",
   "metadata": {},
   "outputs": [],
   "source": [
    "df.to_csv('../data/database.csv', index=False)"
   ]
  },
  {
   "cell_type": "code",
   "execution_count": null,
   "id": "b7aec5d8-3053-492b-9ae4-ec730d544537",
   "metadata": {},
   "outputs": [],
   "source": []
  }
 ],
 "metadata": {
  "kernelspec": {
   "display_name": "Python 3 (ipykernel)",
   "language": "python",
   "name": "python3"
  },
  "language_info": {
   "codemirror_mode": {
    "name": "ipython",
    "version": 3
   },
   "file_extension": ".py",
   "mimetype": "text/x-python",
   "name": "python",
   "nbconvert_exporter": "python",
   "pygments_lexer": "ipython3",
   "version": "3.9.13"
  }
 },
 "nbformat": 4,
 "nbformat_minor": 5
}
